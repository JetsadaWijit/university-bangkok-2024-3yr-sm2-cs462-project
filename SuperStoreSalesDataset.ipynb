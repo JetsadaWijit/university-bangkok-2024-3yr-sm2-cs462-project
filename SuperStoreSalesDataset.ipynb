{
  "cells": [
    {
      "cell_type": "markdown",
      "metadata": {
        "colab_type": "text",
        "id": "view-in-github"
      },
      "source": [
        "<a href=\"https://colab.research.google.com/github/JetsadaWijit/university-bangkok-2024-3yr-sm2-cs462-project/blob/master/SuperStoreSalesDataset.ipynb\" target=\"_parent\"><img src=\"https://colab.research.google.com/assets/colab-badge.svg\" alt=\"Open In Colab\"/></a>"
      ]
    },
    {
      "cell_type": "markdown",
      "metadata": {
        "id": "-HzsOyKGdKHK"
      },
      "source": [
        "Dataset: [SuperStoreSalesDataset](https://www.kaggle.com/datasets/aditisaxena20/superstore-sales-dataset)"
      ]
    },
    {
      "cell_type": "code",
      "execution_count": null,
      "metadata": {
        "id": "KWOh6eFOs6Tp"
      },
      "outputs": [],
      "source": [
        "import os\n",
        "import numpy as np\n",
        "import pandas as pd\n",
        "import matplotlib.pyplot as plt\n",
        "from sklearn.cluster import KMeans"
      ]
    },
    {
      "cell_type": "code",
      "execution_count": null,
      "metadata": {
        "colab": {
          "base_uri": "https://localhost:8080/"
        },
        "id": "znLWRehsckFa",
        "outputId": "e6fcc1f9-5e39-4fb4-bc2d-34e5ecb0acbc"
      },
      "outputs": [],
      "source": [
        "# Import the kaggle library\n",
        "%pip install kaggle\n",
        "\n",
        "if not os.path.exists(\"data/\"):\n",
        "  # Download the dataset\n",
        "  !kaggle datasets download -d aditisaxena20/superstore-sales-dataset -p data/\n",
        "\n",
        "  # Extract the downloaded ZIP file (if necessary)\n",
        "  !unzip data/superstore-sales-dataset.zip -d data/\n",
        "else:\n",
        "  print(\"Data already downloaded. Skipping download step.\")"
      ]
    },
    {
      "cell_type": "code",
      "execution_count": null,
      "metadata": {
        "id": "hIMFniLfuFoD"
      },
      "outputs": [],
      "source": [
        "df = pd.read_csv(\"data/SuperStore_Orders.csv\", encoding='latin-1')"
      ]
    },
    {
      "cell_type": "code",
      "execution_count": null,
      "metadata": {
        "colab": {
          "base_uri": "https://localhost:8080/",
          "height": 394
        },
        "id": "5KKKwNpMV1lJ",
        "outputId": "5745c524-5abf-40b5-e429-ef66f16abf2f"
      },
      "outputs": [],
      "source": [
        "df.head()"
      ]
    },
    {
      "cell_type": "code",
      "execution_count": null,
      "metadata": {
        "colab": {
          "base_uri": "https://localhost:8080/",
          "height": 446
        },
        "id": "Evzi5r97uxiM",
        "outputId": "a7a76db9-f36d-4712-da86-d0412eb30dce"
      },
      "outputs": [],
      "source": [
        "df.tail()"
      ]
    },
    {
      "cell_type": "code",
      "execution_count": null,
      "metadata": {
        "colab": {
          "base_uri": "https://localhost:8080/"
        },
        "id": "jeyfTsHZu6IB",
        "outputId": "c0587072-5b1d-441d-8029-287fc8b223c4"
      },
      "outputs": [],
      "source": [
        "df.columns"
      ]
    },
    {
      "cell_type": "code",
      "execution_count": null,
      "metadata": {
        "colab": {
          "base_uri": "https://localhost:8080/"
        },
        "id": "l_1QNzeUvAT_",
        "outputId": "1c8549a8-9c73-4189-fbd3-9df015236843"
      },
      "outputs": [],
      "source": [
        "df.size"
      ]
    },
    {
      "cell_type": "code",
      "execution_count": null,
      "metadata": {
        "colab": {
          "base_uri": "https://localhost:8080/"
        },
        "id": "Q1El5RQtvC4T",
        "outputId": "7a51b521-bb96-40c7-d642-4d0be0e4bd2b"
      },
      "outputs": [],
      "source": [
        "df.info()"
      ]
    },
    {
      "cell_type": "markdown",
      "metadata": {
        "id": "D40Eh3JEwvxc"
      },
      "source": [
        "**Segment 1 Filtered Data**"
      ]
    },
    {
      "cell_type": "code",
      "execution_count": null,
      "metadata": {
        "colab": {
          "base_uri": "https://localhost:8080/",
          "height": 652
        },
        "id": "V4y2Ozkwy870",
        "outputId": "598fd4bf-3872-439e-9754-c875c04dac5f"
      },
      "outputs": [],
      "source": [
        "# Drop unwanted columns (assuming they exist)\n",
        "columns_to_drop = ['ship_date', 'ship_mode', 'customer_name', 'segment', 'state',\n",
        "                   'product_name', 'shipping_cost', 'order_priority']\n",
        "filtered_data = df.drop(columns=columns_to_drop)\n",
        "\n",
        "# Handle potential errors during conversion and filtering\n",
        "try:\n",
        "  # Attempt conversion to datetime format, handling various formats\n",
        "  filtered_data['order_date'] = pd.to_datetime(filtered_data['order_date'], errors='coerce')\n",
        "\n",
        "  # Filter based on a valid date format (YYYY-MM-DD) after successful conversion\n",
        "  filtered_data = filtered_data[filtered_data['order_date'].notna() &  # Filter out NaNs\n",
        "                                (filtered_data['order_date'] >= pd.to_datetime('2014-09-01'))]\n",
        "except:\n",
        "  print(\"Error: Could not convert 'order_date' column to datetime format. Check data format.\")\n",
        "\n",
        "# Drop rows with missing values (after potential filtering)\n",
        "filtered_data.dropna()"
      ]
    },
    {
      "cell_type": "code",
      "execution_count": null,
      "metadata": {
        "colab": {
          "base_uri": "https://localhost:8080/",
          "height": 313
        },
        "id": "4zDGNJQ9SAxM",
        "outputId": "69051bb3-d3aa-4f4d-b339-e02da33679dc"
      },
      "outputs": [],
      "source": [
        "filtered_data.head()"
      ]
    },
    {
      "cell_type": "code",
      "execution_count": null,
      "metadata": {
        "colab": {
          "base_uri": "https://localhost:8080/",
          "height": 313
        },
        "id": "8Fd90hwKSAoP",
        "outputId": "b01ab13d-da6d-4ad9-cc73-d4d8ec4da738"
      },
      "outputs": [],
      "source": [
        "filtered_data.tail()"
      ]
    },
    {
      "cell_type": "markdown",
      "metadata": {
        "id": "7qDUuEJWRwpS"
      },
      "source": [
        "**Segment 2 Build data**"
      ]
    },
    {
      "cell_type": "code",
      "execution_count": null,
      "metadata": {
        "id": "61IJmbnCSTFL"
      },
      "outputs": [],
      "source": [
        "# Assuming 'sales' is the column with comma-separated values\n",
        "def extract_sales(sales_string):\n",
        "  try:\n",
        "    # Split the string by comma and convert each element to a float\n",
        "    sales_list = [float(value.strip()) for value in sales_string.split(',')]\n",
        "    # Calculate the mean of the list\n",
        "    return sum(sales_list) / len(sales_list)\n",
        "  except:\n",
        "    # Handle potential errors during conversion (optional)\n",
        "    return None  # Or handle differently (e.g., set to 0)\n",
        "\n",
        "# Apply the function to each row in the 'sales' column\n",
        "filtered_data['sales'] = filtered_data['sales'].apply(extract_sales)"
      ]
    },
    {
      "cell_type": "code",
      "execution_count": null,
      "metadata": {
        "id": "LmSvDWxgSTf6"
      },
      "outputs": [],
      "source": [
        "mean_sales = filtered_data.groupby(['country', 'category', 'sub_category'])['sales'].mean().reset_index()"
      ]
    },
    {
      "cell_type": "code",
      "execution_count": null,
      "metadata": {
        "colab": {
          "base_uri": "https://localhost:8080/",
          "height": 424
        },
        "id": "OUAjahnpX96Y",
        "outputId": "a8541cef-d7c8-40ff-aebc-0f7b5fdc2fc1"
      },
      "outputs": [],
      "source": [
        "mean_sales"
      ]
    },
    {
      "cell_type": "code",
      "execution_count": null,
      "metadata": {
        "colab": {
          "base_uri": "https://localhost:8080/",
          "height": 81
        },
        "id": "CMXmdayMWxyD",
        "outputId": "0305c638-28ee-4b9d-a0ab-0e392ad44826"
      },
      "outputs": [],
      "source": [
        "mean_sales[mean_sales['sales'] == mean_sales['sales'].max()]"
      ]
    },
    {
      "cell_type": "code",
      "execution_count": null,
      "metadata": {
        "colab": {
          "base_uri": "https://localhost:8080/",
          "height": 81
        },
        "id": "BkcGGni7Wx9w",
        "outputId": "7bd31a07-a2d4-4b09-9fc7-f6783d4a57b0"
      },
      "outputs": [],
      "source": [
        "mean_sales[mean_sales['sales'] == mean_sales['sales'].min()]"
      ]
    },
    {
      "cell_type": "code",
      "execution_count": null,
      "metadata": {
        "colab": {
          "base_uri": "https://localhost:8080/",
          "height": 329
        },
        "id": "SouOtqoaX_NT",
        "outputId": "fd6b8e92-8b9c-4094-c1fc-4ee7fa8cc3a8"
      },
      "outputs": [],
      "source": [
        "# Assuming 'country' is the first column and 'sales' is the column with mean sales\n",
        "plt.figure(figsize=(12, 6))  # Adjust figure size as needed\n",
        "plt.bar(mean_sales['country'], mean_sales['sales'])\n",
        "plt.xlabel('Country')\n",
        "plt.ylabel('Mean Sales')\n",
        "plt.title('Mean Sales by Country')\n",
        "plt.xticks(rotation=45, ha='right')  # Rotate x-axis labels for better readability\n",
        "plt.tight_layout()\n",
        "plt.show()"
      ]
    },
    {
      "cell_type": "code",
      "execution_count": null,
      "metadata": {
        "colab": {
          "base_uri": "https://localhost:8080/"
        },
        "id": "-9vmP46C1JL8",
        "outputId": "56e2d9a7-8f12-4b5f-c3e6-cdccf67fcefd"
      },
      "outputs": [],
      "source": [
        "# check NaN of null data\n",
        "filtered_data.isna().sum()"
      ]
    },
    {
      "cell_type": "code",
      "execution_count": null,
      "metadata": {
        "colab": {
          "base_uri": "https://localhost:8080/"
        },
        "id": "TvHv6Toz1Uyk",
        "outputId": "ebd8f58d-d287-49d9-fb0a-90532f604c74"
      },
      "outputs": [],
      "source": [
        "# check number of Null data\n",
        "filtered_data.isnull().sum()"
      ]
    },
    {
      "cell_type": "markdown",
      "metadata": {},
      "source": [
        "**Segment 3 unsupervice**"
      ]
    },
    {
      "cell_type": "code",
      "execution_count": null,
      "metadata": {},
      "outputs": [],
      "source": [
        "# Create a KMeans object with the desired number of clusters\n",
        "kmeans = KMeans(n_clusters=3)\n",
        "\n",
        "# Fit the KMeans model to the DataFrame\n",
        "kmeans.fit(filtered_data[['sales']])\n",
        "\n",
        "# Add a new column to the filtered_data DataFrame with cluster labels\n",
        "filtered_data['cluster'] = kmeans.labels_\n",
        "\n",
        "# Merge the cluster labels back to the original DataFrame df using the index\n",
        "df = df.merge(filtered_data[['cluster']], how='left', left_index=True, right_index=True)\n",
        "\n",
        "# Replace NaN values in cluster_x and cluster_y with a placeholder value\n",
        "df['cluster_x'].fillna(-1, inplace=True)\n",
        "df['cluster_y'].fillna(-1, inplace=True)\n",
        "\n",
        "# Print the DataFrame with cluster labels\n",
        "df\n"
      ]
    }
  ],
  "metadata": {
    "colab": {
      "authorship_tag": "ABX9TyMDQsNe7AIOVFtkVVpEpC5C",
      "include_colab_link": true,
      "provenance": []
    },
    "kernelspec": {
      "display_name": "Python 3",
      "name": "python3"
    },
    "language_info": {
      "codemirror_mode": {
        "name": "ipython",
        "version": 3
      },
      "file_extension": ".py",
      "mimetype": "text/x-python",
      "name": "python",
      "nbconvert_exporter": "python",
      "pygments_lexer": "ipython3",
      "version": "3.10.13"
    }
  },
  "nbformat": 4,
  "nbformat_minor": 0
}
