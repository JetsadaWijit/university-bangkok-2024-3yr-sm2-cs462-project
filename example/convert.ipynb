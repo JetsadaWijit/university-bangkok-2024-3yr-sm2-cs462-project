{
 "cells": [
  {
   "cell_type": "markdown",
   "metadata": {},
   "source": [
    "**Parse data**\n",
    "\n",
    "Convert data to integers for machine learning"
   ]
  },
  {
   "cell_type": "code",
   "execution_count": null,
   "metadata": {},
   "outputs": [],
   "source": [
    "import pandas as pd\n",
    "from sklearn.cluster import KMeans\n",
    "from sklearn.preprocessing import LabelEncoder\n",
    "\n",
    "# Define the data\n",
    "data = [\n",
    "    [\"thailand\", \"furniture\", \"chair\", 50],\n",
    "    [\"thailand\", \"furniture\", \"table\", 100],\n",
    "    [\"england\", \"food\", \"apple\", 300],\n",
    "    [\"america\", \"technology\", \"computer\", 100]\n",
    "]\n",
    "\n",
    "# Define column names\n",
    "columns = [\"country\", \"category\", \"sub_category\", \"sales\"]\n",
    "\n",
    "# Create a DataFrame\n",
    "df = pd.DataFrame(data, columns=columns)\n",
    "\n",
    "# Encode categorical variables\n",
    "label_encoders = {}\n",
    "for col in [\"country\", \"category\", \"sub_category\"]:\n",
    "    label_encoders[col] = LabelEncoder()\n",
    "    df[col] = label_encoders[col].fit_transform(df[col])\n",
    "\n",
    "# Apply KMeans clustering\n",
    "kmeans = KMeans(n_clusters=2, random_state=42)\n",
    "df[\"cluster\"] = kmeans.fit_predict(df[[\"country\", \"category\", \"sub_category\", \"sales\"]])\n",
    "\n",
    "# View the clustered data\n",
    "print(df)\n"
   ]
  }
 ],
 "metadata": {
  "kernelspec": {
   "display_name": "Python 3",
   "language": "python",
   "name": "python3"
  },
  "language_info": {
   "codemirror_mode": {
    "name": "ipython",
    "version": 3
   },
   "file_extension": ".py",
   "mimetype": "text/x-python",
   "name": "python",
   "nbconvert_exporter": "python",
   "pygments_lexer": "ipython3",
   "version": "3.10.13"
  }
 },
 "nbformat": 4,
 "nbformat_minor": 2
}
