{
 "cells": [
  {
   "cell_type": "markdown",
   "metadata": {},
   "source": [
    "**Find and Fill NaN data**"
   ]
  },
  {
   "cell_type": "code",
   "execution_count": null,
   "metadata": {},
   "outputs": [],
   "source": [
    "import pandas as pd\n",
    "\n",
    "# Define the data\n",
    "data = [\n",
    "    [\"2014-09-01\", \"thailand\", \"furniture\", \"chair\", 50],\n",
    "    [\"2014-10-01\", \"thailand\", \"furniture\", \"table\", 100],\n",
    "    [\"2014-09-15\", \"england\", \"food\", \"apple\", 300],\n",
    "    [\"2014-10-12\", \"america\", \"technology\", \"computer\", 100],\n",
    "    [\"2014-07-08\", \"america\", \"\",\"chair\", 30],\n",
    "    [\"2014-02-22\", \"thailand\",\"furniture\", \"table\"],\n",
    "    [\"2014-11-15\", \"england\",\"technology\", \"computer\"],\n",
    "    [\"2014-09-01\", \"england\",\"teachnology\", \"computer\", 150],\n",
    "    [\"2014-09-01\", \"america\",\"teachnology\", \"computer\", 200]\n",
    "]\n",
    "\n",
    "# Define column names\n",
    "columns = [\"data\",\"country\", \"category\", \"sub_category\", \"sales\"]\n",
    "\n",
    "# Create a DataFrame\n",
    "df = pd.DataFrame(data, columns=columns)"
   ]
  },
  {
   "cell_type": "code",
   "execution_count": null,
   "metadata": {},
   "outputs": [],
   "source": [
    "# Fill NaN values\n",
    "df.fillna(\"\", inplace=True)\n",
    "\n",
    "# Show the DataFrame\n",
    "df"
   ]
  }
 ],
 "metadata": {
  "kernelspec": {
   "display_name": "Python 3",
   "language": "python",
   "name": "python3"
  },
  "language_info": {
   "codemirror_mode": {
    "name": "ipython",
    "version": 3
   },
   "file_extension": ".py",
   "mimetype": "text/x-python",
   "name": "python",
   "nbconvert_exporter": "python",
   "pygments_lexer": "ipython3",
   "version": "3.10.13"
  }
 },
 "nbformat": 4,
 "nbformat_minor": 2
}
